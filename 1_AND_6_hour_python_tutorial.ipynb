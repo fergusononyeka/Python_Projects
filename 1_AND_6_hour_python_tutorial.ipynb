{
 "cells": [
  {
   "cell_type": "markdown",
   "id": "39304a60-927c-4660-89a7-b2f88d1b6927",
   "metadata": {},
   "source": [
    "#CODE TO PERFORM BASIC CALCULATIONS"
   ]
  },
  {
   "cell_type": "code",
   "execution_count": 1,
   "id": "4306ee7f-20b7-49bf-999e-7aacd5c933e7",
   "metadata": {},
   "outputs": [
    {
     "name": "stdin",
     "output_type": "stream",
     "text": [
      "Enter your first No:  78\n",
      "Enter your second No:  89\n"
     ]
    },
    {
     "name": "stdout",
     "output_type": "stream",
     "text": [
      "your sum is 167.0\n"
     ]
    }
   ],
   "source": [
    "x = float(input(\"Enter your first No: \"))\n",
    "y = float(input(\"Enter your second No: \"))\n",
    "print(\"your sum is \" + str((x+y)))"
   ]
  },
  {
   "cell_type": "markdown",
   "id": "2b9d0236-b7f8-4890-8192-1d12e347eeb1",
   "metadata": {},
   "source": [
    "#CODE TO PERFORM CONVERSION"
   ]
  },
  {
   "cell_type": "code",
   "execution_count": 7,
   "id": "fc20f396-15ae-47c3-ad50-e4f0e6fa8c60",
   "metadata": {},
   "outputs": [],
   "source": [
    "names = [\"John\", \"Sam\", \"Tunde\", \"Ade\"]\n"
   ]
  },
  {
   "cell_type": "code",
   "execution_count": 10,
   "id": "8942b9a1-8487-4b12-a8d8-787bd6594526",
   "metadata": {},
   "outputs": [
    {
     "name": "stdout",
     "output_type": "stream",
     "text": [
      "Tunde\n"
     ]
    }
   ],
   "source": []
  },
  {
   "cell_type": "code",
   "execution_count": 3,
   "id": "60f06c83-9855-43b1-bae9-b1063a5759fa",
   "metadata": {},
   "outputs": [
    {
     "name": "stdout",
     "output_type": "stream",
     "text": [
      "['John', 'Sam', 'Tunde', 'Ade']\n",
      "['John', 'Sam']\n",
      "John\n",
      "Sam\n",
      "Tunde\n"
     ]
    }
   ],
   "source": [
    "print(names)\n",
    "print(names[0:-2])\n",
    "i = 0 #intitialize\n",
    "while i < 3: #condition\n",
    "    print(names[i])\n",
    "    i+=1\n"
   ]
  },
  {
   "cell_type": "code",
   "execution_count": 7,
   "id": "ddbccf03-0df6-4bc5-b0f8-76b740eee428",
   "metadata": {},
   "outputs": [
    {
     "name": "stdout",
     "output_type": "stream",
     "text": [
      "John\n",
      "Sam\n",
      "Tunde\n",
      "Ade\n"
     ]
    }
   ],
   "source": [
    "for items in names:\n",
    "    print(items)\n"
   ]
  },
  {
   "cell_type": "markdown",
   "id": "fafc113a-eaee-4f37-a820-f2bb8a5be703",
   "metadata": {
    "jp-MarkdownHeadingCollapsed": true
   },
   "source": []
  },
  {
   "cell_type": "code",
   "execution_count": 8,
   "id": "9c930a91-e939-458e-8ead-33183477f135",
   "metadata": {},
   "outputs": [
    {
     "name": "stdout",
     "output_type": "stream",
     "text": [
      " His full names are Udensi Ferguson \n"
     ]
    }
   ],
   "source": [
    "#Formatted Stings\n",
    "f_name = \"Udensi\"\n",
    "s_name = \"Ferguson\"\n",
    "\n",
    "fullnames= f' His full names are {f_name} {s_name} '\n",
    "print(fullnames)"
   ]
  },
  {
   "cell_type": "markdown",
   "id": "7277538d-d38f-48a8-8aaf-026c6a1dccbd",
   "metadata": {},
   "source": [
    "#CODE TO PERFORM CONVERSION\n",
    "#code to convert from Celcius to Kelvin or Ferenheigh"
   ]
  },
  {
   "cell_type": "code",
   "execution_count": 9,
   "id": "264914d1-5e8c-4e61-b08e-1efadca5d0a6",
   "metadata": {},
   "outputs": [
    {
     "name": "stdin",
     "output_type": "stream",
     "text": [
      "input the Temperature value in Degree Celcius:  7\n",
      " Input (K or k) for Kelvin or Input (F or f) for ferenheit k\n"
     ]
    },
    {
     "name": "stdout",
     "output_type": "stream",
     "text": [
      " the temperature in Kelvin is 280.0 Degree K\n",
      " the temperature in kelvin is 280.0 Degree K\n"
     ]
    }
   ],
   "source": [
    "temp_value= float(input(\"input the Temperature value in Degree Celcius: \"))\n",
    "choice = input(\" Input (K or k) for Kelvin or Input (F or f) for ferenheit\")\n",
    "#converting the Letters to upper case using upper() functions\n",
    "x=choice.upper()\n",
    "if x == \"K\":\n",
    "    K=temp_value + 273\n",
    "    print(\" the temperature in Kelvin is \" + str(K) + ' Degree K') #Outputing using Concatenation\n",
    "    print(f\" the temperature in kelvin is {K} Degree K\") #Outputting using formatted string\n",
    "elif x == \"F\":\n",
    "    F= 1.8*temp_value +32\n",
    "    print(\"the temperature in Farhenheit is \" + str(F) + ' Degree F') #Outputing using Concatenation\n",
    "    print(f\" the temperature in Farhenheit is {F} Degree F\") #Outputting using formatted string\n",
    "else:\n",
    "    print(\"You entered an invalid input\")\n"
   ]
  },
  {
   "cell_type": "code",
   "execution_count": 10,
   "id": "5d6c029c-10f5-4c5f-9e7b-d6264f861e33",
   "metadata": {
    "scrolled": true
   },
   "outputs": [
    {
     "data": {
      "text/plain": [
       "'len() the of the string characters\\n.upper(No Argument) converts characters to UPPER case but doesn\\'t change the original\\n.lower() converts characters to lower case\\n.find(\"str\") looks for a string and return the index value or returns negative if not available\\n.replace(\"str\", \"string\") replaces str with string in a position\\nin operator returns True if the string is available and returns False if not '"
      ]
     },
     "execution_count": 10,
     "metadata": {},
     "output_type": "execute_result"
    }
   ],
   "source": [
    "#STRING METHODS OR FUCTIONS\n",
    "'''len() the of the string characters\n",
    ".upper(No Argument) converts characters to UPPER case but doesn't change the original\n",
    ".lower() converts characters to lower case\n",
    ".find(\"str\") looks for a string and return the index value or returns negative if not available\n",
    ".replace(\"str\", \"string\") replaces str with string in a position\n",
    "in operator returns True if the string is available and returns False if not '''\n"
   ]
  },
  {
   "cell_type": "code",
   "execution_count": 12,
   "id": "06ef6c56-4b21-4d70-bc7f-dbbc9c028fb4",
   "metadata": {},
   "outputs": [
    {
     "name": "stdout",
     "output_type": "stream",
     "text": [
      "The length of the srting is 20\n"
     ]
    }
   ],
   "source": [
    "course = \"Python for Beginners\"\n",
    "print(\"The length of the srting is \" + str(len(course)))"
   ]
  },
  {
   "cell_type": "code",
   "execution_count": null,
   "id": "5da93770-15af-4713-8653-00fefe2d3f8f",
   "metadata": {
    "scrolled": true
   },
   "outputs": [],
   "source": [
    "print(course.find(\"for\"))"
   ]
  },
  {
   "cell_type": "code",
   "execution_count": null,
   "id": "b20763a1-a0d5-4076-876a-5a935804180a",
   "metadata": {},
   "outputs": [],
   "source": [
    "print(course.upper() + \" \" + course.lower())"
   ]
  },
  {
   "cell_type": "code",
   "execution_count": null,
   "id": "5b46088a-0177-4347-80dd-a07654d89b16",
   "metadata": {},
   "outputs": [],
   "source": [
    "\"Ade\" in course"
   ]
  },
  {
   "cell_type": "code",
   "execution_count": null,
   "id": "63b0070e-b697-47f9-8091-9298f6b115d9",
   "metadata": {},
   "outputs": [],
   "source": [
    "print(course.replace(\"for\", \"4\"))"
   ]
  },
  {
   "cell_type": "code",
   "execution_count": null,
   "id": "5763b9a5-e19b-4979-b4bb-43410d09bebd",
   "metadata": {},
   "outputs": [],
   "source": [
    "import math \n",
    "\n",
    "#The Math module helps to import various Math functions for our usage. \n",
    "x=2\n",
    "x += 4\n",
    "print(math.factorial(x))\n",
    "x=2.9\n",
    "print(round(x))\n",
    "print(abs(-x))"
   ]
  },
  {
   "cell_type": "markdown",
   "id": "58218c3f-5e64-46ed-a7a9-d3fa4ceec08d",
   "metadata": {},
   "source": [
    "IF ELSE STATEMENT ( A CODE THAT TAKES A USER NAME AND CHECK IF THE CHARACTER LENGHT IS GOOD"
   ]
  },
  {
   "cell_type": "code",
   "execution_count": null,
   "id": "7381638c-5bee-4bec-ae29-21936a557ebf",
   "metadata": {},
   "outputs": [],
   "source": [
    "name = input(\"Input your name: \")\n",
    "if len(name) <= 2:\n",
    "    print(\"Name must be at least 3 characters\")\n",
    "elif len(name) >= 50:\n",
    "    print(\"name is too long\")\n",
    "else:\n",
    "    print(\"name looks good\")"
   ]
  },
  {
   "cell_type": "markdown",
   "id": "389c8dca-8f69-41a7-98a0-1947bee0d38f",
   "metadata": {},
   "source": [
    "GUESSING GAME USING WHILE LOOP"
   ]
  },
  {
   "cell_type": "code",
   "execution_count": 33,
   "id": "e84b1dc2-f780-4b84-bc61-f5b503b86d4a",
   "metadata": {},
   "outputs": [
    {
     "name": "stdout",
     "output_type": "stream",
     "text": [
      "Your Have Only Three Attempts To Guess The Number\n"
     ]
    },
    {
     "name": "stdin",
     "output_type": "stream",
     "text": [
      "Guess the number  10\n"
     ]
    },
    {
     "name": "stdout",
     "output_type": "stream",
     "text": [
      "Congrats! You Win!!!\n"
     ]
    }
   ],
   "source": [
    "Secret_No = 10\n",
    "print(\"Your Have Only Three Attempts To Guess The Number\")\n",
    "try_limit = 3\n",
    "count_i = 1\n",
    "while count_i <= try_limit:\n",
    "    Num_guessed = int(input(\"Guess the number \"))\n",
    "    if Num_guessed == Secret_No:\n",
    "        print(\"Congrats! You Win!!!\")\n",
    "        break\n",
    "    else:\n",
    "        if count_i <=2:\n",
    "            print(\"Sorry Try Again\")\n",
    "    count_i+=1\n",
    "else:\n",
    "    print(\"Game Over\")"
   ]
  },
  {
   "cell_type": "markdown",
   "id": "c3230c29-f46f-4205-b60b-89de808c6fac",
   "metadata": {},
   "source": [
    "CAR GAME CREATION WITH WHILE LOOP"
   ]
  },
  {
   "cell_type": "code",
   "execution_count": 11,
   "id": "d127640d-f0b5-4c6c-b7ff-ec1b2fa285fc",
   "metadata": {},
   "outputs": [
    {
     "name": "stdin",
     "output_type": "stream",
     "text": [
      ">  start\n"
     ]
    },
    {
     "name": "stdout",
     "output_type": "stream",
     "text": [
      "Car Started ...\n"
     ]
    },
    {
     "name": "stdin",
     "output_type": "stream",
     "text": [
      ">  start\n"
     ]
    },
    {
     "name": "stdout",
     "output_type": "stream",
     "text": [
      "Car Already started ...\n"
     ]
    },
    {
     "name": "stdin",
     "output_type": "stream",
     "text": [
      ">  stop\n"
     ]
    },
    {
     "name": "stdout",
     "output_type": "stream",
     "text": [
      "Car stop  ...\n"
     ]
    },
    {
     "name": "stdin",
     "output_type": "stream",
     "text": [
      ">  stop\n"
     ]
    },
    {
     "name": "stdout",
     "output_type": "stream",
     "text": [
      "Car Already Stopped...\n"
     ]
    },
    {
     "name": "stdin",
     "output_type": "stream",
     "text": [
      ">  stop\n"
     ]
    },
    {
     "name": "stdout",
     "output_type": "stream",
     "text": [
      "Car Already Stopped...\n"
     ]
    },
    {
     "name": "stdin",
     "output_type": "stream",
     "text": [
      ">  quit\n"
     ]
    }
   ],
   "source": [
    "command = \" \"\n",
    "started = False\n",
    "while True:\n",
    "    command = input(\"> \").lower()\n",
    "    if command == \"start\":\n",
    "        if started:\n",
    "            print(\"Car Already started ...\")\n",
    "        else:\n",
    "            started = True\n",
    "            print(\"Car Started ...\")\n",
    "    elif command == \"stop\":\n",
    "        if not started:\n",
    "            print(\"Car Already Stopped...\")\n",
    "        else:\n",
    "            started = False\n",
    "            print(\"Car stop  ...\")\n",
    "    elif command == \"help\":\n",
    "        print(\"\"\"\n",
    "start - to start the car\n",
    "stop - to stop the car\n",
    "quit - to quit\n",
    "\"\"\")\n",
    "    elif command == \"quit\":\n",
    "        break \n",
    "else:\n",
    "        print(\"Sorry, I don't understand that!\")"
   ]
  },
  {
   "cell_type": "markdown",
   "id": "cd868e9e-8c6e-43d5-bc9a-aa1d42e87815",
   "metadata": {},
   "source": [
    "FOR LOOPS WITH Strings, List = [3, 5, 7] or [\"ade\", \"tunde\", \"bill\"] , Tuple = (3, 5, 7) or (\"ade\", \"tunde\", \"bill\")  and Rang()"
   ]
  },
  {
   "cell_type": "code",
   "execution_count": 16,
   "id": "2c6576bc-3361-4006-b155-671969a3e170",
   "metadata": {},
   "outputs": [
    {
     "name": "stdout",
     "output_type": "stream",
     "text": [
      "1\n",
      "2\n",
      "3\n",
      "4\n"
     ]
    }
   ],
   "source": [
    "#for item in range(10):\n",
    "#for item in range(10,50,5):\n",
    "#for item in range(1,5):\n",
    "   #print(item)"
   ]
  },
  {
   "cell_type": "code",
   "execution_count": 18,
   "id": "34799ca7-b992-460b-92ab-00b900cfcb77",
   "metadata": {},
   "outputs": [
    {
     "name": "stdout",
     "output_type": "stream",
     "text": [
      "ade\n",
      "tunde\n",
      "bill\n"
     ]
    }
   ],
   "source": [
    "name = [\"ade\", \"tunde\", \"bill\"]\n",
    "for items in name:\n",
    "    print(items)"
   ]
  },
  {
   "cell_type": "code",
   "execution_count": 25,
   "id": "7aab0eaf-beb8-4e81-8a2f-eeacda22d719",
   "metadata": {},
   "outputs": [
    {
     "name": "stdout",
     "output_type": "stream",
     "text": [
      " Total: 104\n"
     ]
    }
   ],
   "source": [
    "# A Program to sum the list interger elements\n",
    "prices = [10, 35,19,40]\n",
    "sum = 0\n",
    "for price in prices:\n",
    "   sum += price\n",
    "print(f\" Total: {sum}\")"
   ]
  },
  {
   "cell_type": "markdown",
   "id": "adc64cc3-dcb8-469d-9834-d173cf862aca",
   "metadata": {},
   "source": [
    "#F QUIZE"
   ]
  },
  {
   "cell_type": "code",
   "execution_count": 27,
   "id": "6ead7e54-8d7c-4d6f-b622-03eed314a319",
   "metadata": {},
   "outputs": [
    {
     "name": "stdout",
     "output_type": "stream",
     "text": [
      "xxxxx\n",
      "xx\n",
      "xxxxx\n",
      "xx\n",
      "xx\n"
     ]
    }
   ],
   "source": [
    "numbers = [5, 2, 5, 2, 2]\n",
    "for item in numbers:\n",
    "    print(item * \"x\")"
   ]
  },
  {
   "cell_type": "code",
   "execution_count": 38,
   "id": "4f9702ac-1742-45e9-8c63-06409111eba0",
   "metadata": {},
   "outputs": [
    {
     "name": "stdout",
     "output_type": "stream",
     "text": [
      "xx\n",
      "xx\n",
      "xx\n",
      "xx\n",
      "xx\n",
      "xxxxxxxx\n",
      "xxxxxxxx\n"
     ]
    }
   ],
   "source": [
    "#Alternatively: \n",
    "numbers = [2,2,2,2,2,8,8]\n",
    "for x_count in numbers:\n",
    "    output = ''\n",
    "    for count in range(x_count):\n",
    "        output += \"x\"\n",
    "    print(output)"
   ]
  },
  {
   "cell_type": "code",
   "execution_count": 31,
   "id": "5da90124-e598-43eb-84eb-c7739aaf028f",
   "metadata": {},
   "outputs": [
    {
     "name": "stdout",
     "output_type": "stream",
     "text": [
      "x=0,y=0\n",
      "x=0,y=1\n",
      "x=0,y=2\n",
      "x=1,y=0\n",
      "x=1,y=1\n",
      "x=1,y=2\n",
      "x=2,y=0\n",
      "x=2,y=1\n",
      "x=2,y=2\n",
      "x=3,y=0\n",
      "x=3,y=1\n",
      "x=3,y=2\n"
     ]
    }
   ],
   "source": [
    "# code for runing matrix in for loop\n",
    "for x in range(4):\n",
    "    for y in range(3):\n",
    "        print(f'x={x},y={y}')"
   ]
  },
  {
   "cell_type": "code",
   "execution_count": 40,
   "id": "e56c6440-29e3-4ab4-a6ab-703d13f3d717",
   "metadata": {},
   "outputs": [
    {
     "name": "stdout",
     "output_type": "stream",
     "text": [
      "8\n"
     ]
    }
   ],
   "source": [
    "#A Program to Find the Largest Number in a List\n",
    "#Type A for List with three elements\n",
    "number = [ 4, 6, 8]\n",
    "if number[0] > ( number[1] and number[2]):\n",
    "    print(number[0])\n",
    "elif number[1] > (number[0] and number[2]):\n",
    "    print(number[1])\n",
    "else:\n",
    "    print(number[2])"
   ]
  },
  {
   "cell_type": "code",
   "execution_count": 3,
   "id": "aecd59b0-f65e-4fbe-97b6-a1529229950b",
   "metadata": {},
   "outputs": [
    {
     "name": "stdout",
     "output_type": "stream",
     "text": [
      "the greatest number is 10\n"
     ]
    }
   ],
   "source": [
    "#Alternatively Using for Loop\n",
    "numbers = [ 4, 6, 8,10]\n",
    "max = numbers[0]\n",
    "for number in numbers:\n",
    "    if number > max:\n",
    "        max = number\n",
    "else:\n",
    "    print(f\"the greatest number is {max}\")"
   ]
  },
  {
   "cell_type": "code",
   "execution_count": 6,
   "id": "7c76de6e-87ee-4407-905e-a6614228b794",
   "metadata": {},
   "outputs": [
    {
     "name": "stdout",
     "output_type": "stream",
     "text": [
      "the greatest number is 17\n"
     ]
    }
   ],
   "source": [
    "#alternatively Using while loop\n",
    "numbers = [ 4, 6, 8,10,17,9]\n",
    "max = numbers[0]\n",
    "count = 0\n",
    "while count < len(numbers):\n",
    "    if numbers[count]  > max:\n",
    "        max = numbers[count]\n",
    "    count+=1\n",
    "else:\n",
    "    print(f\"the greatest number is {max}\")\n",
    "    "
   ]
  },
  {
   "cell_type": "markdown",
   "id": "bbf54dfd-e75f-4411-9b77-512e208952eb",
   "metadata": {},
   "source": [
    "#TWO DIMENSIONAL LIST"
   ]
  },
  {
   "cell_type": "code",
   "execution_count": 8,
   "id": "2f2b3de8-70c5-4623-be8f-8299c9a4e673",
   "metadata": {},
   "outputs": [
    {
     "name": "stdout",
     "output_type": "stream",
     "text": [
      "[[1, 2, 3], [4, 5, 6], [7, 8, 9]]\n",
      "[1, 2, 3]\n",
      "[7]\n",
      "[1, 2, 3]\n",
      " row=[1, 2, 3], column = [1, 2, 3]\n",
      " row=[1, 2, 3], column = [4, 5, 6]\n",
      " row=[1, 2, 3], column = [7, 8, 9]\n",
      " row=[4, 5, 6], column = [1, 2, 3]\n",
      " row=[4, 5, 6], column = [4, 5, 6]\n",
      " row=[4, 5, 6], column = [7, 8, 9]\n",
      " row=[7, 8, 9], column = [1, 2, 3]\n",
      " row=[7, 8, 9], column = [4, 5, 6]\n",
      " row=[7, 8, 9], column = [7, 8, 9]\n"
     ]
    }
   ],
   "source": [
    "matrix_3by3 =[ [1, 2, 3], [4, 5, 6], [7, 8, 9]]\n",
    "print(matrix_3by3[:][:])\n",
    "print(matrix_3by3[0][:])\n",
    "print(matrix_3by3[2][:1])\n",
    "print(matrix_3by3[:][0])\n",
    "for row in matrix_3by3:\n",
    "    for column in matrix_3by3:\n",
    "        print(f' row={row}, column = {column}')"
   ]
  },
  {
   "cell_type": "markdown",
   "id": "3514c4bc-dc93-43a9-88d6-4d4c48e629ed",
   "metadata": {},
   "source": [
    "#LIS METHODS .apped(), .sort(), .reverse(),.copy(), .clear(), .pop(), .remove()"
   ]
  },
  {
   "cell_type": "code",
   "execution_count": 26,
   "id": "17b2d8d0-3b1c-47f4-8291-d22bfabb64f8",
   "metadata": {},
   "outputs": [
    {
     "name": "stdout",
     "output_type": "stream",
     "text": [
      "[4, 6, 7, 4, 5, 8, 2, 7, 9]\n",
      "[4, 6, 7, 4, 5, 2, 7, 9]\n",
      "[4, 6, 7, 4, 5, 2, 7]\n",
      "[4, 10, 6, 7, 4, 5, 2, 7]\n",
      "[2, 4, 4, 5, 6, 7, 7, 10]\n",
      "[10, 7, 7, 6, 5, 4, 4, 2]\n",
      "1\n",
      "[10, 7, 7, 6, 5, 4, 4, 2]\n",
      "[]\n"
     ]
    }
   ],
   "source": [
    "numbers = [4, 6, 7, 4, 5, 8, 2, 7]\n",
    "numbers.append(9)\n",
    "print(numbers)\n",
    "numbers.remove(8)\n",
    "print(numbers)\n",
    "numbers.pop()\n",
    "print(numbers)\n",
    "numbers.insert(1,10)\n",
    "print(numbers)\n",
    "numbers.sort()\n",
    "print(numbers)\n",
    "numbers.reverse()\n",
    "print(numbers)\n",
    "print(numbers.index(7))\n",
    "print(numbers)\n",
    "numbers.clear()\n",
    "print(numbers)\n"
   ]
  },
  {
   "cell_type": "markdown",
   "id": "15a0eb7b-9c9f-4097-b96f-bee9591bc98c",
   "metadata": {},
   "source": [
    "#A PROGRAM TO REMOVE THE DUPLICATES IN A LIST"
   ]
  },
  {
   "cell_type": "code",
   "execution_count": 11,
   "id": "6be97dd9-cbe9-474e-b14b-454b506e4f78",
   "metadata": {},
   "outputs": [
    {
     "name": "stdout",
     "output_type": "stream",
     "text": [
      "[4, 8, 9, 7]\n"
     ]
    }
   ],
   "source": [
    "numbers = [4,8,9,9,7]\n",
    "number2 =[] #setting number2 to empty lsit\n",
    "for number in numbers:\n",
    "    if number not in number2:\n",
    "        number2.append(number)\n",
    "print(number2)"
   ]
  },
  {
   "cell_type": "code",
   "execution_count": 2,
   "id": "ea376fdf-d94f-45e8-b278-03a368054c6c",
   "metadata": {},
   "outputs": [
    {
     "name": "stdout",
     "output_type": "stream",
     "text": [
      "x=4, y=6, z=7\n"
     ]
    }
   ],
   "source": [
    "#TUPLE = () this are like list but with parentesis and they do not change, they only accepts two fuctions count and index\n",
    "coordinate = (4, 6, 7)\n",
    "x=coordinate[0]\n",
    "y=coordinate[1]\n",
    "z=coordinate[2]\n",
    "#unpacking is used to easily access all the elements in a list or tuple and assign it to a variable\n",
    "x,y,z = coordinate #is an example of unpacking\n",
    "\n",
    "print(f'x={x}, y={y}, z={z}')"
   ]
  },
  {
   "cell_type": "code",
   "execution_count": 8,
   "id": "e8fdcc9c-056e-4ca3-8be4-b0dbb5b3f584",
   "metadata": {},
   "outputs": [
    {
     "name": "stdout",
     "output_type": "stream",
     "text": [
      "Udensi Ferguson\n",
      "Udensi Ferguson\n",
      "45\n"
     ]
    }
   ],
   "source": [
    "#DICTIONARY PROVIDES A METHOD FOR STORING KEY-PAIRS DATA\n",
    "customer = {\n",
    "    \"Name\": \"Udensi Ferguson\",\n",
    "    \"Age\": 45,\n",
    "    \"Email\": \"fergusononyekachi@gmail.com\"\n",
    "}\n",
    "\n",
    "#Accessing the Elements is case sensitive and it  is performed using its title\n",
    "print(customer[\"Name\"])\n",
    "print(customer.get(\"Name\")) #this get() fuction helps to return value none instead of error when the var isn't available\n",
    "print(customer.get(\"Age\",\"not available\")) #it prints the default value if the var is not available"
   ]
  },
  {
   "cell_type": "code",
   "execution_count": 21,
   "id": "d81167d6-ae14-475b-b639-dc81d007cb4b",
   "metadata": {},
   "outputs": [
    {
     "name": "stdin",
     "output_type": "stream",
     "text": [
      "phone : tuhu778\n"
     ]
    },
    {
     "name": "stdout",
     "output_type": "stream",
     "text": [
      "invalid_input invalid_input invalid_input invalid_input Seven Seven Eight "
     ]
    }
   ],
   "source": [
    "#A PROGRAM TO TRANSLATE NUMBERS TO WORD\n",
    "phone = input(\"phone :\")\n",
    "for number in phone:\n",
    "    if number == \"1\":\n",
    "        print(\"One\", end=\" \")\n",
    "    elif number == \"2\":\n",
    "        print(\"Two\",end=\" \")\n",
    "    elif number == \"3\":\n",
    "        print(\"Three\",end=\" \")\n",
    "    elif number == \"4\":\n",
    "        print(\"Four\",end=\" \")\n",
    "    elif number == \"5\":\n",
    "        print(\"Five\",end=\" \")\n",
    "    elif number == \"6\":\n",
    "        print(\"Six\",end=\" \")\n",
    "    elif number == \"7\":\n",
    "        print(\"Seven\",end=\" \")\n",
    "    elif number == \"8\":\n",
    "        print(\"Eight\",end=\" \")\n",
    "    elif number == \"9\":\n",
    "        print(\"Nine\",end=\" \")\n",
    "    elif number == \"0\":\n",
    "        print(\"Zero\",end=\" \")\n",
    "    else:\n",
    "        print(\"invalid_input\", end=\" \")"
   ]
  },
  {
   "cell_type": "code",
   "execution_count": 2,
   "id": "94494b2a-7aa3-41e9-a7df-5dd24a832aad",
   "metadata": {},
   "outputs": [
    {
     "name": "stdin",
     "output_type": "stream",
     "text": [
      "Enter Digits :  678\n"
     ]
    },
    {
     "name": "stdout",
     "output_type": "stream",
     "text": [
      "six seven eight "
     ]
    }
   ],
   "source": [
    "#Alternatively Using Dictionary\n",
    "Digits = input(\"Enter Digits : \")\n",
    "words= {\"1\": \"one\", \"2\": \"two\", \"3\":\"three\", \"4\":\"four\", \"5\":\"five\", \"6\":\"six\", \"7\":\"seven\", \"8\":\"eight\",\"9\":\"nine\",\"0\":\"zero\"}\n",
    "for number in Digits:\n",
    "    print(words.get(number,\"invalid_input\"), end=\" \")"
   ]
  },
  {
   "cell_type": "code",
   "execution_count": 10,
   "id": "9f406821-379d-441e-afe5-d716a2bbaca2",
   "metadata": {},
   "outputs": [
    {
     "name": "stdin",
     "output_type": "stream",
     "text": [
      "Enter Digits :  678\n"
     ]
    },
    {
     "name": "stdout",
     "output_type": "stream",
     "text": [
      "six seven eight \n"
     ]
    }
   ],
   "source": [
    "#Alternatively still using Dictionary\n",
    "Digits = input(\"Enter Digits : \")\n",
    "words= {\"1\": \"one\", \"2\": \"two\", \"3\":\"three\", \"4\":\"four\", \"5\":\"five\", \"6\":\"six\", \"7\":\"seven\", \"8\":\"eight\",\"9\":\"nine\",\"0\":\"zero\"}\n",
    "Outputs=\"\"\n",
    "for number in Digits:\n",
    "    Outputs += words.get(number,\"Invalid_input\") + \" \"\n",
    "print(Outputs)"
   ]
  },
  {
   "cell_type": "code",
   "execution_count": 15,
   "id": "d682fbb9-1362-428a-896f-438909e88e16",
   "metadata": {},
   "outputs": [
    {
     "name": "stdin",
     "output_type": "stream",
     "text": [
      "Input a sentence with 'sad' or 'happy' >  i am :)\n"
     ]
    },
    {
     "name": "stdout",
     "output_type": "stream",
     "text": [
      "i am happy \n"
     ]
    }
   ],
   "source": [
    "#Emoji Converter\n",
    "message = input(\"Input a sentence with 'sad' or 'happy' > \")\n",
    "words = message.split(' ') # this method seperates the string into a list using the space or char inside the quote\n",
    "output=\"\"\n",
    "emojis = {\n",
    "    \":)\" : \"happy\",\n",
    "    \"(:\": \"sad\"\n",
    "}\n",
    "for word in words:\n",
    "    output += emojis.get(word, word) + \" \"\n",
    "print(output)"
   ]
  },
  {
   "cell_type": "code",
   "execution_count": null,
   "id": "8f681f46-2265-4d98-a589-cd7583d002c2",
   "metadata": {},
   "outputs": [],
   "source": [
    "#A FUNCTION DEFIFINATION IN PYTHON"
   ]
  },
  {
   "cell_type": "code",
   "execution_count": 20,
   "id": "917e3134-110d-40e3-9b5e-d5ea32be1ddd",
   "metadata": {},
   "outputs": [
    {
     "name": "stdout",
     "output_type": "stream",
     "text": [
      "13\n"
     ]
    }
   ],
   "source": [
    "#A function with an argument and a return value\n",
    "def my_sum(a,b):\n",
    "    c=a+b\n",
    "    return c\n",
    "\n",
    "x,y = (5, 8)\n",
    "z= my_sum(x,y)\n",
    "print(z)"
   ]
  },
  {
   "cell_type": "code",
   "execution_count": 21,
   "id": "b71d49e8-7533-43ce-b015-4b050c93b04e",
   "metadata": {},
   "outputs": [
    {
     "name": "stdout",
     "output_type": "stream",
     "text": [
      "You are welcome in here\n"
     ]
    }
   ],
   "source": [
    "#a function without a return value\n",
    "def welcome():\n",
    "    print(\"You are welcome in here!!!\")\n",
    "\n",
    "welcome()"
   ]
  },
  {
   "cell_type": "code",
   "execution_count": null,
   "id": "8b293f88-b39a-4f85-8d21-d6e7d6f58a15",
   "metadata": {},
   "outputs": [],
   "source": [
    "#Default Function .i.e A Function with a default argument\n",
    "def sum(a, b = 0):\n",
    "    return a+b\n",
    "print(sum(9))"
   ]
  },
  {
   "cell_type": "code",
   "execution_count": 10,
   "id": "175985f5-40a5-4fe8-a3ef-56454bca2a56",
   "metadata": {},
   "outputs": [
    {
     "name": "stdin",
     "output_type": "stream",
     "text": [
      "Input a sentence with 'sad' or 'happy' >  i amd happy\n"
     ]
    },
    {
     "name": "stdout",
     "output_type": "stream",
     "text": [
      "i amd happy \n"
     ]
    }
   ],
   "source": [
    "#EMOJI CONVERTER FUNCTION\n",
    "def emoji_converter(message):\n",
    "    words = message.split(' ') # this method seperates the string into a list using the space or char inside the quote\n",
    "    output=\"\"\n",
    "    emojis = {\n",
    "    \":)\" : \"happy\",\n",
    "    \"(:\": \"sad\"\n",
    "    }\n",
    "    for word in words:\n",
    "        output += emojis.get(word, word) + \" \"\n",
    "    return output\n",
    "\n",
    "\n",
    "message = input(\"Input a sentence with 'sad' or 'happy' > \")\n",
    "Output =emoji_converter(message)\n",
    "print(Output)"
   ]
  },
  {
   "cell_type": "code",
   "execution_count": 22,
   "id": "2c9068e3-1ee1-49d9-8bd2-4ddf40ee1d1e",
   "metadata": {},
   "outputs": [
    {
     "name": "stdin",
     "output_type": "stream",
     "text": [
      "Age:  78\n",
      "income:  as\n"
     ]
    },
    {
     "name": "stdout",
     "output_type": "stream",
     "text": [
      "Invalid Input\n"
     ]
    }
   ],
   "source": [
    "#EXECTIONAL HANDLING USINSG try and execpt\n",
    "try:\n",
    "    age = int(input(\"Age: \"))\n",
    "    income = float(input(\"income: \"))\n",
    "    income_per_age = float(income / age)\n",
    "    print(f' Your income per age is = {income_per_age}')\n",
    "except ValueError or ZeroDivisionError:# this is where you must input the type of error. it could be one or more\n",
    "    print(\"Invalid Input\")"
   ]
  },
  {
   "cell_type": "code",
   "execution_count": 24,
   "id": "b1526956-8608-447e-94d3-9dc3fc576275",
   "metadata": {},
   "outputs": [
    {
     "name": "stdin",
     "output_type": "stream",
     "text": [
      "Age:  68\n",
      "Income:  asdf\n"
     ]
    },
    {
     "name": "stdout",
     "output_type": "stream",
     "text": [
      "Invalid Input: Age or Income must be an interger\n"
     ]
    }
   ],
   "source": [
    "#alternatively\n",
    "try:\n",
    "    age = int(input(\"Age: \"))\n",
    "    income = float(input(\"Income: \"))\n",
    "    income_per_age = float(income / age)\n",
    "    print(f' Your income per age is = {income_per_age}')\n",
    "    \n",
    "except ZeroDivisionError:\n",
    "    print(\"Invalid Input: Age must not be 0\")\n",
    "except ValueError:\n",
    "    print(\"Invalid Input: Age or Income must be an interger\")"
   ]
  },
  {
   "cell_type": "markdown",
   "id": "7c4c73da-c368-4ea0-a774-36a0f623ae7b",
   "metadata": {},
   "source": [
    "#CLASSES IN PYTHON\n",
    "Syntax for Class\n",
    "class ClassName:\n",
    "    #default attributes\n",
    "    age = 0\n",
    "    #default methods\n",
    "    def sum(a,b):\n",
    "        return a+b\n",
    "    def draw(self):\n",
    "        print(\"draw\")\n",
    "\n",
    "#creating class instances\n",
    "instance1 = ClassName()\n",
    "instance2 = ClassName()\n",
    "\n",
    "#accessing or intitializing instances\n",
    "\n",
    "instance1.age = 5 #intitializing\n",
    "instance1.draw()"
   ]
  },
  {
   "cell_type": "code",
   "execution_count": 30,
   "id": "c437aa88-31ad-4c23-aaeb-c9ba658ddce8",
   "metadata": {},
   "outputs": [
    {
     "name": "stdout",
     "output_type": "stream",
     "text": [
      "draw\n",
      "0\n",
      "5\n",
      "22\n"
     ]
    }
   ],
   "source": [
    "class ClassName:\n",
    "    #default attributes\n",
    "    age = 0\n",
    "    #default methods\n",
    "    def sum(self,a,b):#the self keyword must be placed as the first argument in a class method.\n",
    "        print(a+b)\n",
    "    def draw(self):\n",
    "        print(\"draw\")\n",
    "\n",
    "#creating class instances\n",
    "instance1 = ClassName()\n",
    "instance2 = ClassName()\n",
    "\n",
    "#accessing or intitializing instances\n",
    "\n",
    "instance1.age = 5 #intitializing\n",
    "instance1.draw()\n",
    "print(instance2.age)\n",
    "print(instance1.age)\n",
    "instance1.sum(5,17)\n"
   ]
  },
  {
   "cell_type": "code",
   "execution_count": 49,
   "id": "eeb7df5b-c820-4ace-8ac7-3ed40bd2a2da",
   "metadata": {},
   "outputs": [
    {
     "name": "stdout",
     "output_type": "stream",
     "text": [
      "17\n"
     ]
    }
   ],
   "source": [
    "#USING CONSTRUCTORS\n",
    "class Point:\n",
    "    #defining constructor function to automatically intitialize instances\n",
    "    def __init__(self, x, y):\n",
    "        self.x = x\n",
    "        self.y = y\n",
    "        \n",
    "    #other methods\n",
    "    def draw(self):\n",
    "        print(\"draw\")\n",
    "    def move(self):\n",
    "        print(\"move\")\n",
    "    def sum(self,a,b):\n",
    "        return a+b\n",
    "#creating instances of class Point\n",
    "point1 = Point(9,8)\n",
    "z = point1.sum(point1.x,point1.y)\n",
    "print(z)\n"
   ]
  },
  {
   "cell_type": "code",
   "execution_count": 51,
   "id": "747fa156-c493-4387-aa72-76bd6ae96400",
   "metadata": {},
   "outputs": [
    {
     "name": "stdout",
     "output_type": "stream",
     "text": [
      "Ferguson\n",
      "Udensi\n",
      "talk\n"
     ]
    }
   ],
   "source": [
    "class Person:\n",
    "    #constructor definition\n",
    "    def __init__(self,name):\n",
    "        self.name = name\n",
    "    #methods\n",
    "    def talk(self):\n",
    "        print(\"talk\")\n",
    "\n",
    "Name = Person(\"Ferguson\")\n",
    "print(Name.name)\n",
    "Name.name=\"Udensi\"\n",
    "print(Name.name)\n",
    "Name.talk()"
   ]
  },
  {
   "cell_type": "markdown",
   "id": "58169e71-c6e4-4eed-bcae-f55d3b09df71",
   "metadata": {},
   "source": [
    "#INHERITANCE ILLUSTRATION IN PYTHON"
   ]
  },
  {
   "cell_type": "code",
   "execution_count": 53,
   "id": "677f9939-a4b7-4322-8ead-67c3cdbdb6b2",
   "metadata": {},
   "outputs": [
    {
     "name": "stdout",
     "output_type": "stream",
     "text": [
      "move\n",
      "1\n",
      "2\n",
      "walk\n"
     ]
    }
   ],
   "source": [
    "class Mamals:\n",
    "    #Constructor and Attribute\n",
    "    def __init__(self,id):\n",
    "        self.id = id\n",
    "    def move(self):\n",
    "        print(\"move\")\n",
    "    def walk(self):\n",
    "        print(\"walk\")\n",
    "    \n",
    "class Dog(Mamals):#The Mammal keyword placed inside the parenthesis allows class Dog to inherit all the attributes in mamals.\n",
    "    def bark(self):\n",
    "        print(\"bark\")\n",
    "\n",
    "class Cat(Mamals):\n",
    "    pass #the pass keyword is used when the class has already inherited all property from parent and its empty\n",
    "\n",
    "#defining instances\n",
    "dog1=Dog(1)\n",
    "cat1=Cat(2)\n",
    "dog1.move()\n",
    "print(dog1.id)\n",
    "print(cat1.id)\n",
    "cat1.walk()"
   ]
  },
  {
   "cell_type": "code",
   "execution_count": 32,
   "id": "7906817d-cba5-434a-822b-b3402982b436",
   "metadata": {},
   "outputs": [
    {
     "name": "stdout",
     "output_type": "stream",
     "text": [
      "This is the second\n",
      "216\n",
      "13\n"
     ]
    },
    {
     "name": "stdin",
     "output_type": "stream",
     "text": [
      "insert a list of numbers separated by comma >  67,8,8,9\n"
     ]
    },
    {
     "name": "stdout",
     "output_type": "stream",
     "text": [
      "the greatest number is 67\n"
     ]
    }
   ],
   "source": [
    "import my_module_1# file module1 must be saved as .py extension\n",
    "#import my_module\n",
    "\n",
    "#alternatively we can import the function only rather than all\n",
    "from my_module_1 import my_sum\n",
    "\n",
    "my_module_1.second()\n",
    "my_module_1.power(6,3)\n",
    "my_sum(8,5)\n",
    "find_max()"
   ]
  },
  {
   "cell_type": "code",
   "execution_count": 17,
   "id": "476fb5d1-1b27-4592-a758-4ce62eb28890",
   "metadata": {},
   "outputs": [
    {
     "name": "stdin",
     "output_type": "stream",
     "text": [
      "insert a list of numbers separated by comma >  67, 8,9,0\n"
     ]
    },
    {
     "name": "stdout",
     "output_type": "stream",
     "text": [
      "the greatest number is 67\n"
     ]
    }
   ],
   "source": [
    "def find_max():\n",
    "    list= input(\"insert a list of numbers separated by comma > \")\n",
    "    numbers_str = list.split(',') #split() returns a list seperated by comma\n",
    "    #this eval() function will convert the list in string to intergers\n",
    "    numbers_int = [eval(i) for i in numbers_str]\n",
    "    max = numbers_int[0]\n",
    "    for number in numbers_int:\n",
    "        if number > max:\n",
    "            max = number\n",
    "    else:\n",
    "        print(f\"the greatest number is {max}\")\n",
    "find_max()"
   ]
  },
  {
   "cell_type": "code",
   "execution_count": 49,
   "id": "40a04b11-df59-490f-b93d-da43b9a5b245",
   "metadata": {},
   "outputs": [
    {
     "name": "stdout",
     "output_type": "stream",
     "text": [
      "(6,5)\n"
     ]
    }
   ],
   "source": [
    "#A code to help you Row a Dice\n",
    "import random\n",
    "#range(5) is same as list 1,2,3,4,5\n",
    "for i in range(1):\n",
    "    a = random.randint(1,6)\n",
    "    b = random.randint(1,6)\n",
    "    print(f\"({a},{b})\")"
   ]
  },
  {
   "cell_type": "code",
   "execution_count": 48,
   "id": "60989da2-8943-4f5e-905c-6f602f89ff9d",
   "metadata": {},
   "outputs": [
    {
     "name": "stdout",
     "output_type": "stream",
     "text": [
      "(2, 1)\n"
     ]
    }
   ],
   "source": [
    "#Alternatively A code to help you Row a Dice\n",
    "import random\n",
    "\n",
    "\n",
    "class Dice:\n",
    "    def roll(self):\n",
    "        first = random.randint(1,6)\n",
    "        second = random.randint(1,6)\n",
    "        return first, second\n",
    "\n",
    "\n",
    "dice = Dice()\n",
    "print(dice.roll())"
   ]
  }
 ],
 "metadata": {
  "kernelspec": {
   "display_name": "Python 3 (ipykernel)",
   "language": "python",
   "name": "python3"
  },
  "language_info": {
   "codemirror_mode": {
    "name": "ipython",
    "version": 3
   },
   "file_extension": ".py",
   "mimetype": "text/x-python",
   "name": "python",
   "nbconvert_exporter": "python",
   "pygments_lexer": "ipython3",
   "version": "3.10.13"
  }
 },
 "nbformat": 4,
 "nbformat_minor": 5
}
